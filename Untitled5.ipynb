{
  "nbformat": 4,
  "nbformat_minor": 0,
  "metadata": {
    "colab": {
      "provenance": [],
      "authorship_tag": "ABX9TyPHrO85Smwzxo0zjw0PnS2s",
      "include_colab_link": true
    },
    "kernelspec": {
      "name": "python3",
      "display_name": "Python 3"
    },
    "language_info": {
      "name": "python"
    }
  },
  "cells": [
    {
      "cell_type": "markdown",
      "metadata": {
        "id": "view-in-github",
        "colab_type": "text"
      },
      "source": [
        "<a href=\"https://colab.research.google.com/github/treblik/AddEmprego/blob/main/Untitled5.ipynb\" target=\"_parent\"><img src=\"https://colab.research.google.com/assets/colab-badge.svg\" alt=\"Open In Colab\"/></a>"
      ]
    },
    {
      "cell_type": "code",
      "execution_count": 6,
      "metadata": {
        "colab": {
          "base_uri": "https://localhost:8080/"
        },
        "id": "xv55u3EmYwVu",
        "outputId": "2c137f93-e2f4-47a7-f320-64f739631ec3"
      },
      "outputs": [
        {
          "output_type": "stream",
          "name": "stdout",
          "text": [
            "Digite o primeiro número:8\n",
            "Digite o segundo número:2\n",
            "O resultado da divisão de 8.0 e 2.0 é igual a 5.0\n"
          ]
        }
      ],
      "source": [
        "num1=float(input(\"Digite o primeiro número:\"))\n",
        "num2=float(input(\"Digite o segundo número:\"))\n",
        "resDiv= (num1+num2)/2\n",
        "print('O resultado da divisão de {} e {} é igual a {}'.format(num1,num2,resDiv))"
      ]
    }
  ]
}